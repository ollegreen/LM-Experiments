{
 "cells": [
  {
   "cell_type": "code",
   "execution_count": 2,
   "metadata": {},
   "outputs": [],
   "source": [
    "import sys\n",
    "sys.path.append('../..')"
   ]
  },
  {
   "cell_type": "code",
   "execution_count": null,
   "metadata": {},
   "outputs": [],
   "source": [
    "from langchain.llms import Ollama"
   ]
  },
  {
   "cell_type": "code",
   "execution_count": 7,
   "metadata": {},
   "outputs": [
    {
     "name": "stderr",
     "output_type": "stream",
     "text": [
      "/Users/olles/miniconda3/envs/lmx/lib/python3.11/site-packages/tqdm/auto.py:21: TqdmWarning: IProgress not found. Please update jupyter and ipywidgets. See https://ipywidgets.readthedocs.io/en/stable/user_install.html\n",
      "  from .autonotebook import tqdm as notebook_tqdm\n"
     ]
    }
   ],
   "source": [
    "from models.ollama_model_calls import query_phi, query_solar, query_starling, query_mistral_Q\n",
    "from utils.format_llm_output_text import format_llm_answer\n",
    "from eval.gsm8k_llm import check_answer_using_llm"
   ]
  },
  {
   "cell_type": "markdown",
   "metadata": {},
   "source": [
    "# Experiment:\n",
    "* **Goal**: try to make a small LLM be able to use a calcualtor tool to calculate simple math question.\n",
    "* **Problem**: can a small language model (SLM) or quantized version of smaller model be able to logically pick up a simple math problem and take out the numbers and calculate the math using a calcualtor? Would it need different LLMs throughout the process, or can we make it work with one model?\n",
    "* **Models to test**: to begin with, let's start with Phi-2 and Mistral qunatized version that we can run locally."
   ]
  },
  {
   "cell_type": "markdown",
   "metadata": {},
   "source": [
    "_____\n",
    "\n",
    "The question to answer: "
   ]
  },
  {
   "cell_type": "code",
   "execution_count": 9,
   "metadata": {},
   "outputs": [],
   "source": [
    "# Zero shot\n",
    "prompt = \"Can you tell me what the total money I have if I have earned 544430GBP per day for 530 days?\"\n",
    "# answer = 288,547,900"
   ]
  },
  {
   "cell_type": "markdown",
   "metadata": {},
   "source": [
    "_______"
   ]
  },
  {
   "cell_type": "code",
   "execution_count": 10,
   "metadata": {},
   "outputs": [
    {
     "data": {
      "text/markdown": [
       " Certainly, to calculate the total amount of money earned in GBP, we need to multiply the daily earnings by the number of days worked. \n",
       "\n",
       "544430GBP (daily earnings) x 530 (days worked) = 2,844,690 GBP\n",
       "\n",
       "Therefore, if you have earned 544430GBP per day for 530 days, your total earnings would be 2,844,690 GBP.\n"
      ],
      "text/plain": [
       "<IPython.core.display.Markdown object>"
      ]
     },
     "metadata": {},
     "output_type": "display_data"
    }
   ],
   "source": [
    "format_llm_answer(query_phi(prompt))"
   ]
  },
  {
   "cell_type": "code",
   "execution_count": 11,
   "metadata": {},
   "outputs": [
    {
     "data": {
      "text/markdown": [
       " To determine the total amount of money you have accumulated over 530 days if you earn 544,430 GBP per day, you can multiply the earnings per day by the number of days. \n",
       "\n",
       "Total Money = Earnings per Day * Number of Days\n",
       "Total Money = 544,430 GBP/day * 530 days\n",
       "Total Money = 287,1690,000 GBP (approx.)\n",
       "\n",
       "This calculation shows that over the course of 530 days with a daily earning of 544,430 GBP, you would have accumulated approximately 287.17 million GBP."
      ],
      "text/plain": [
       "<IPython.core.display.Markdown object>"
      ]
     },
     "metadata": {},
     "output_type": "display_data"
    }
   ],
   "source": [
    "format_llm_answer(query_solar(prompt))"
   ]
  },
  {
   "cell_type": "code",
   "execution_count": 12,
   "metadata": {},
   "outputs": [
    {
     "data": {
      "text/markdown": [
       " Yes, to find the total money you have, you can multiply the amount earned per day by the number of days. Here's the calculation:\n",
       "\n",
       "Total money = Amount earned per day * Number of days\n",
       "Total money = 544,430 GBP * 530\n",
       "\n",
       "The total money you have is £292,297,860.<|end_of_turn|>"
      ],
      "text/plain": [
       "<IPython.core.display.Markdown object>"
      ]
     },
     "metadata": {},
     "output_type": "display_data"
    }
   ],
   "source": [
    "format_llm_answer(query_starling(prompt))"
   ]
  },
  {
   "cell_type": "code",
   "execution_count": 13,
   "metadata": {},
   "outputs": [
    {
     "data": {
      "text/markdown": [
       "To calculate the total amount of money earned, we need to know how much each GBP is worth. As of now, one GBP is equal to 1.29162 euros (EUR). So, 544430GBP equals 676283.86 euros (EUR).\n",
       "Therefore, the total amount earned would be:\n",
       "676283.86 euros (EUR) \\* 1 euro (EUR) = €676283.86\n",
       "This means that you have earned €676,283.86 over the course of 530 days."
      ],
      "text/plain": [
       "<IPython.core.display.Markdown object>"
      ]
     },
     "metadata": {},
     "output_type": "display_data"
    }
   ],
   "source": [
    "format_llm_answer(query_mistral_Q(prompt))"
   ]
  },
  {
   "cell_type": "code",
   "execution_count": null,
   "metadata": {},
   "outputs": [],
   "source": [
    "# check_answer_using_llm(,fd)"
   ]
  },
  {
   "cell_type": "markdown",
   "metadata": {},
   "source": [
    "## Set up Math Agent"
   ]
  },
  {
   "cell_type": "code",
   "execution_count": null,
   "metadata": {},
   "outputs": [],
   "source": []
  }
 ],
 "metadata": {
  "kernelspec": {
   "display_name": "lmx",
   "language": "python",
   "name": "python3"
  },
  "language_info": {
   "codemirror_mode": {
    "name": "ipython",
    "version": 3
   },
   "file_extension": ".py",
   "mimetype": "text/x-python",
   "name": "python",
   "nbconvert_exporter": "python",
   "pygments_lexer": "ipython3",
   "version": "3.11.7"
  }
 },
 "nbformat": 4,
 "nbformat_minor": 2
}
